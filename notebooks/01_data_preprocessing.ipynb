{
 "cells": [
  {
   "cell_type": "code",
   "execution_count": 5,
   "id": "ab6e0e8f",
   "metadata": {},
   "outputs": [
    {
     "name": "stdout",
     "output_type": "stream",
     "text": [
      "Project root: C:\\Users\\jeral\\OneDrive\\Desktop\\RAG CB\\rag-chatbot\n",
      "Data dir: C:\\Users\\jeral\\OneDrive\\Desktop\\RAG CB\\rag-chatbot\\data\\msmarco\n",
      "Results dir: C:\\Users\\jeral\\OneDrive\\Desktop\\RAG CB\\rag-chatbot\\results\n"
     ]
    }
   ],
   "source": [
    "import sys\n",
    "from pathlib import Path\n",
    "\n",
    "# Get project root (one level up from notebooks/)\n",
    "project_root = Path().resolve().parent\n",
    "sys.path.append(str(project_root))\n",
    "\n",
    "import pandas as pd\n",
    "from src.utils import DATA_DIR, RESULTS_DIR\n",
    "\n",
    "print(\"Project root:\", project_root)\n",
    "print(\"Data dir:\", DATA_DIR)\n",
    "print(\"Results dir:\", RESULTS_DIR)\n",
    "\n",
    "\n",
    "\n",
    "\n",
    "\n",
    "\n",
    "\n"
   ]
  },
  {
   "cell_type": "code",
   "execution_count": 6,
   "id": "c1f7661d",
   "metadata": {},
   "outputs": [
    {
     "name": "stdout",
     "output_type": "stream",
     "text": [
      "Data loaded! Shape: (2651306, 2)\n"
     ]
    },
    {
     "data": {
      "text/html": [
       "<div>\n",
       "<style scoped>\n",
       "    .dataframe tbody tr th:only-of-type {\n",
       "        vertical-align: middle;\n",
       "    }\n",
       "\n",
       "    .dataframe tbody tr th {\n",
       "        vertical-align: top;\n",
       "    }\n",
       "\n",
       "    .dataframe thead th {\n",
       "        text-align: right;\n",
       "    }\n",
       "</style>\n",
       "<table border=\"1\" class=\"dataframe\">\n",
       "  <thead>\n",
       "    <tr style=\"text-align: right;\">\n",
       "      <th></th>\n",
       "      <th>id</th>\n",
       "      <th>text</th>\n",
       "    </tr>\n",
       "  </thead>\n",
       "  <tbody>\n",
       "    <tr>\n",
       "      <th>0</th>\n",
       "      <td>0</td>\n",
       "      <td>The presence of communication amid scientific ...</td>\n",
       "    </tr>\n",
       "    <tr>\n",
       "      <th>1</th>\n",
       "      <td>1</td>\n",
       "      <td>The Manhattan Project and its atomic bomb help...</td>\n",
       "    </tr>\n",
       "    <tr>\n",
       "      <th>2</th>\n",
       "      <td>2</td>\n",
       "      <td>Essay on The Manhattan Project - The Manhattan...</td>\n",
       "    </tr>\n",
       "    <tr>\n",
       "      <th>3</th>\n",
       "      <td>3</td>\n",
       "      <td>The Manhattan Project was the name for a proje...</td>\n",
       "    </tr>\n",
       "    <tr>\n",
       "      <th>4</th>\n",
       "      <td>4</td>\n",
       "      <td>versions of each volume as well as complementa...</td>\n",
       "    </tr>\n",
       "  </tbody>\n",
       "</table>\n",
       "</div>"
      ],
      "text/plain": [
       "   id                                               text\n",
       "0   0  The presence of communication amid scientific ...\n",
       "1   1  The Manhattan Project and its atomic bomb help...\n",
       "2   2  Essay on The Manhattan Project - The Manhattan...\n",
       "3   3  The Manhattan Project was the name for a proje...\n",
       "4   4  versions of each volume as well as complementa..."
      ]
     },
     "execution_count": 6,
     "metadata": {},
     "output_type": "execute_result"
    }
   ],
   "source": [
    "\n",
    "file_path = DATA_DIR / \"documents.csv\"   # or \"documents.tsv\"\n",
    "\n",
    "if file_path.suffix == \".csv\":\n",
    "    df = pd.read_csv(file_path)\n",
    "elif file_path.suffix == \".tsv\":\n",
    "    df = pd.read_csv(file_path, sep=\"\\t\")\n",
    "else:\n",
    "    raise ValueError(\"Unsupported file format. Please use CSV or TSV.\")\n",
    "\n",
    "print(\"Data loaded! Shape:\", df.shape)\n",
    "df.head()\n",
    "\n"
   ]
  },
  {
   "cell_type": "code",
   "execution_count": 7,
   "id": "b60962fc",
   "metadata": {},
   "outputs": [
    {
     "name": "stdout",
     "output_type": "stream",
     "text": [
      "Cleaned dataset shape: (2651306, 2)\n"
     ]
    },
    {
     "data": {
      "text/html": [
       "<div>\n",
       "<style scoped>\n",
       "    .dataframe tbody tr th:only-of-type {\n",
       "        vertical-align: middle;\n",
       "    }\n",
       "\n",
       "    .dataframe tbody tr th {\n",
       "        vertical-align: top;\n",
       "    }\n",
       "\n",
       "    .dataframe thead th {\n",
       "        text-align: right;\n",
       "    }\n",
       "</style>\n",
       "<table border=\"1\" class=\"dataframe\">\n",
       "  <thead>\n",
       "    <tr style=\"text-align: right;\">\n",
       "      <th></th>\n",
       "      <th>id</th>\n",
       "      <th>text</th>\n",
       "    </tr>\n",
       "  </thead>\n",
       "  <tbody>\n",
       "    <tr>\n",
       "      <th>0</th>\n",
       "      <td>0</td>\n",
       "      <td>The presence of communication amid scientific ...</td>\n",
       "    </tr>\n",
       "    <tr>\n",
       "      <th>1</th>\n",
       "      <td>1</td>\n",
       "      <td>The Manhattan Project and its atomic bomb help...</td>\n",
       "    </tr>\n",
       "    <tr>\n",
       "      <th>2</th>\n",
       "      <td>2</td>\n",
       "      <td>Essay on The Manhattan Project - The Manhattan...</td>\n",
       "    </tr>\n",
       "    <tr>\n",
       "      <th>3</th>\n",
       "      <td>3</td>\n",
       "      <td>The Manhattan Project was the name for a proje...</td>\n",
       "    </tr>\n",
       "    <tr>\n",
       "      <th>4</th>\n",
       "      <td>4</td>\n",
       "      <td>versions of each volume as well as complementa...</td>\n",
       "    </tr>\n",
       "  </tbody>\n",
       "</table>\n",
       "</div>"
      ],
      "text/plain": [
       "   id                                               text\n",
       "0   0  The presence of communication amid scientific ...\n",
       "1   1  The Manhattan Project and its atomic bomb help...\n",
       "2   2  Essay on The Manhattan Project - The Manhattan...\n",
       "3   3  The Manhattan Project was the name for a proje...\n",
       "4   4  versions of each volume as well as complementa..."
      ]
     },
     "execution_count": 7,
     "metadata": {},
     "output_type": "execute_result"
    }
   ],
   "source": [
    "# Drop duplicates and missing values\n",
    "df = df.drop_duplicates().dropna()\n",
    "\n",
    "# Ensure text column exists\n",
    "if \"text\" not in df.columns:\n",
    "    raise KeyError(\"Expected a 'text' column in dataset!\")\n",
    "\n",
    "df = df.reset_index(drop=True)\n",
    "print(\"Cleaned dataset shape:\", df.shape)\n",
    "df.head()\n"
   ]
  },
  {
   "cell_type": "code",
   "execution_count": 8,
   "id": "d5336d85",
   "metadata": {},
   "outputs": [
    {
     "name": "stdout",
     "output_type": "stream",
     "text": [
      "Preprocessed data saved to C:\\Users\\jeral\\OneDrive\\Desktop\\RAG CB\\rag-chatbot\\results\\cleaned_data.csv\n"
     ]
    }
   ],
   "source": [
    "# Save cleaned data into results/ folder for retriever training\n",
    "output_file = RESULTS_DIR / \"cleaned_data.csv\"\n",
    "df.to_csv(output_file, index=False)\n",
    "\n",
    "print(f\"Preprocessed data saved to {output_file}\")\n"
   ]
  },
  {
   "cell_type": "code",
   "execution_count": 9,
   "id": "096a2b73",
   "metadata": {},
   "outputs": [
    {
     "name": "stdout",
     "output_type": "stream",
     "text": [
      "Number of documents: 2651306\n",
      "Average document length: 334.7458863669452\n"
     ]
    },
    {
     "data": {
      "text/html": [
       "<div>\n",
       "<style scoped>\n",
       "    .dataframe tbody tr th:only-of-type {\n",
       "        vertical-align: middle;\n",
       "    }\n",
       "\n",
       "    .dataframe tbody tr th {\n",
       "        vertical-align: top;\n",
       "    }\n",
       "\n",
       "    .dataframe thead th {\n",
       "        text-align: right;\n",
       "    }\n",
       "</style>\n",
       "<table border=\"1\" class=\"dataframe\">\n",
       "  <thead>\n",
       "    <tr style=\"text-align: right;\">\n",
       "      <th></th>\n",
       "      <th>id</th>\n",
       "      <th>text</th>\n",
       "    </tr>\n",
       "  </thead>\n",
       "  <tbody>\n",
       "    <tr>\n",
       "      <th>2576453</th>\n",
       "      <td>2576453</td>\n",
       "      <td>Sonic soot blower. Sonic soot blowers offer a ...</td>\n",
       "    </tr>\n",
       "    <tr>\n",
       "      <th>1558043</th>\n",
       "      <td>1558043</td>\n",
       "      <td>The just resolution of a lost pet dispute requ...</td>\n",
       "    </tr>\n",
       "    <tr>\n",
       "      <th>2403919</th>\n",
       "      <td>2403919</td>\n",
       "      <td>the shaft tail finch is a beautiful finch spec...</td>\n",
       "    </tr>\n",
       "    <tr>\n",
       "      <th>785110</th>\n",
       "      <td>785110</td>\n",
       "      <td>State Parks around here are great but most of ...</td>\n",
       "    </tr>\n",
       "    <tr>\n",
       "      <th>1628525</th>\n",
       "      <td>1628525</td>\n",
       "      <td>Starting in 2014, the Affordable Care Act (aka...</td>\n",
       "    </tr>\n",
       "  </tbody>\n",
       "</table>\n",
       "</div>"
      ],
      "text/plain": [
       "              id                                               text\n",
       "2576453  2576453  Sonic soot blower. Sonic soot blowers offer a ...\n",
       "1558043  1558043  The just resolution of a lost pet dispute requ...\n",
       "2403919  2403919  the shaft tail finch is a beautiful finch spec...\n",
       "785110    785110  State Parks around here are great but most of ...\n",
       "1628525  1628525  Starting in 2014, the Affordable Care Act (aka..."
      ]
     },
     "execution_count": 9,
     "metadata": {},
     "output_type": "execute_result"
    }
   ],
   "source": [
    "print(\"Number of documents:\", len(df))\n",
    "print(\"Average document length:\", df['text'].str.len().mean())\n",
    "\n",
    "df.sample(5)\n"
   ]
  }
 ],
 "metadata": {
  "kernelspec": {
   "display_name": "Python 3",
   "language": "python",
   "name": "python3"
  },
  "language_info": {
   "codemirror_mode": {
    "name": "ipython",
    "version": 3
   },
   "file_extension": ".py",
   "mimetype": "text/x-python",
   "name": "python",
   "nbconvert_exporter": "python",
   "pygments_lexer": "ipython3",
   "version": "3.11.3"
  }
 },
 "nbformat": 4,
 "nbformat_minor": 5
}
